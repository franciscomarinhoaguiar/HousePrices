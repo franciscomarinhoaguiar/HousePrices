{
  "metadata": {
    "kernelspec": {
      "name": "python",
      "display_name": "Python (Pyodide)",
      "language": "python"
    },
    "language_info": {
      "codemirror_mode": {
        "name": "python",
        "version": 3
      },
      "file_extension": ".py",
      "mimetype": "text/x-python",
      "name": "python",
      "nbconvert_exporter": "python",
      "pygments_lexer": "ipython3",
      "version": "3.8"
    }
  },
  "nbformat_minor": 5,
  "nbformat": 4,
  "cells": [
    {
      "id": "9ab1f7a6",
      "cell_type": "markdown",
      "source": "# House Prices - Advanced Regression Techniques\n(Preços de casas - Técnicas Avançadas de Regressão)\n\n<img src=\"https://storage.googleapis.com/kaggle-competitions/kaggle/5407/media/housesbanner.png\" width=800>\n\n\n- Vamos utilizar o [dataset disponível no Kaggle](https://www.kaggle.com/competitions/house-prices-advanced-regression-techniques/overview)\n    - É um dataset de **competição**\n    - Temos uma base com a **descrição de cada uma das colunas (data_description.txt)**",
      "metadata": {}
    },
    {
      "id": "0233c934",
      "cell_type": "code",
      "source": "# Importando o pandas\nimport pandas as pd",
      "metadata": {
        "trusted": true
      },
      "outputs": [],
      "execution_count": 7
    },
    {
      "id": "3c8d95e7",
      "cell_type": "code",
      "source": "# Importando o dataset de treino\nbase = pd.read_csv('train.csv')",
      "metadata": {
        "trusted": true
      },
      "outputs": [],
      "execution_count": 8
    },
    {
      "id": "bfd24d0c",
      "cell_type": "code",
      "source": "# Visualizando essa base\nbase.head(5)",
      "metadata": {
        "trusted": true
      },
      "outputs": [
        {
          "execution_count": 9,
          "output_type": "execute_result",
          "data": {
            "text/plain": "   Id  MSSubClass MSZoning  LotFrontage  LotArea Street Alley LotShape  \\\n0   1          60       RL         65.0     8450   Pave   NaN      Reg   \n1   2          20       RL         80.0     9600   Pave   NaN      Reg   \n2   3          60       RL         68.0    11250   Pave   NaN      IR1   \n3   4          70       RL         60.0     9550   Pave   NaN      IR1   \n4   5          60       RL         84.0    14260   Pave   NaN      IR1   \n\n  LandContour Utilities  ... PoolArea PoolQC Fence MiscFeature MiscVal MoSold  \\\n0         Lvl    AllPub  ...        0    NaN   NaN         NaN       0      2   \n1         Lvl    AllPub  ...        0    NaN   NaN         NaN       0      5   \n2         Lvl    AllPub  ...        0    NaN   NaN         NaN       0      9   \n3         Lvl    AllPub  ...        0    NaN   NaN         NaN       0      2   \n4         Lvl    AllPub  ...        0    NaN   NaN         NaN       0     12   \n\n  YrSold  SaleType  SaleCondition  SalePrice  \n0   2008        WD         Normal     208500  \n1   2007        WD         Normal     181500  \n2   2008        WD         Normal     223500  \n3   2006        WD        Abnorml     140000  \n4   2008        WD         Normal     250000  \n\n[5 rows x 81 columns]",
            "text/html": "<div>\n<style scoped>\n    .dataframe tbody tr th:only-of-type {\n        vertical-align: middle;\n    }\n\n    .dataframe tbody tr th {\n        vertical-align: top;\n    }\n\n    .dataframe thead th {\n        text-align: right;\n    }\n</style>\n<table border=\"1\" class=\"dataframe\">\n  <thead>\n    <tr style=\"text-align: right;\">\n      <th></th>\n      <th>Id</th>\n      <th>MSSubClass</th>\n      <th>MSZoning</th>\n      <th>LotFrontage</th>\n      <th>LotArea</th>\n      <th>Street</th>\n      <th>Alley</th>\n      <th>LotShape</th>\n      <th>LandContour</th>\n      <th>Utilities</th>\n      <th>...</th>\n      <th>PoolArea</th>\n      <th>PoolQC</th>\n      <th>Fence</th>\n      <th>MiscFeature</th>\n      <th>MiscVal</th>\n      <th>MoSold</th>\n      <th>YrSold</th>\n      <th>SaleType</th>\n      <th>SaleCondition</th>\n      <th>SalePrice</th>\n    </tr>\n  </thead>\n  <tbody>\n    <tr>\n      <th>0</th>\n      <td>1</td>\n      <td>60</td>\n      <td>RL</td>\n      <td>65.0</td>\n      <td>8450</td>\n      <td>Pave</td>\n      <td>NaN</td>\n      <td>Reg</td>\n      <td>Lvl</td>\n      <td>AllPub</td>\n      <td>...</td>\n      <td>0</td>\n      <td>NaN</td>\n      <td>NaN</td>\n      <td>NaN</td>\n      <td>0</td>\n      <td>2</td>\n      <td>2008</td>\n      <td>WD</td>\n      <td>Normal</td>\n      <td>208500</td>\n    </tr>\n    <tr>\n      <th>1</th>\n      <td>2</td>\n      <td>20</td>\n      <td>RL</td>\n      <td>80.0</td>\n      <td>9600</td>\n      <td>Pave</td>\n      <td>NaN</td>\n      <td>Reg</td>\n      <td>Lvl</td>\n      <td>AllPub</td>\n      <td>...</td>\n      <td>0</td>\n      <td>NaN</td>\n      <td>NaN</td>\n      <td>NaN</td>\n      <td>0</td>\n      <td>5</td>\n      <td>2007</td>\n      <td>WD</td>\n      <td>Normal</td>\n      <td>181500</td>\n    </tr>\n    <tr>\n      <th>2</th>\n      <td>3</td>\n      <td>60</td>\n      <td>RL</td>\n      <td>68.0</td>\n      <td>11250</td>\n      <td>Pave</td>\n      <td>NaN</td>\n      <td>IR1</td>\n      <td>Lvl</td>\n      <td>AllPub</td>\n      <td>...</td>\n      <td>0</td>\n      <td>NaN</td>\n      <td>NaN</td>\n      <td>NaN</td>\n      <td>0</td>\n      <td>9</td>\n      <td>2008</td>\n      <td>WD</td>\n      <td>Normal</td>\n      <td>223500</td>\n    </tr>\n    <tr>\n      <th>3</th>\n      <td>4</td>\n      <td>70</td>\n      <td>RL</td>\n      <td>60.0</td>\n      <td>9550</td>\n      <td>Pave</td>\n      <td>NaN</td>\n      <td>IR1</td>\n      <td>Lvl</td>\n      <td>AllPub</td>\n      <td>...</td>\n      <td>0</td>\n      <td>NaN</td>\n      <td>NaN</td>\n      <td>NaN</td>\n      <td>0</td>\n      <td>2</td>\n      <td>2006</td>\n      <td>WD</td>\n      <td>Abnorml</td>\n      <td>140000</td>\n    </tr>\n    <tr>\n      <th>4</th>\n      <td>5</td>\n      <td>60</td>\n      <td>RL</td>\n      <td>84.0</td>\n      <td>14260</td>\n      <td>Pave</td>\n      <td>NaN</td>\n      <td>IR1</td>\n      <td>Lvl</td>\n      <td>AllPub</td>\n      <td>...</td>\n      <td>0</td>\n      <td>NaN</td>\n      <td>NaN</td>\n      <td>NaN</td>\n      <td>0</td>\n      <td>12</td>\n      <td>2008</td>\n      <td>WD</td>\n      <td>Normal</td>\n      <td>250000</td>\n    </tr>\n  </tbody>\n</table>\n<p>5 rows × 81 columns</p>\n</div>"
          },
          "metadata": {}
        }
      ],
      "execution_count": 9
    },
    {
      "id": "3bbab431",
      "cell_type": "code",
      "source": "# Retornando o shape da base\nbase.shape",
      "metadata": {
        "trusted": true
      },
      "outputs": [
        {
          "execution_count": 11,
          "output_type": "execute_result",
          "data": {
            "text/plain": "(1460, 81)"
          },
          "metadata": {}
        }
      ],
      "execution_count": 11
    },
    {
      "id": "ba3f0cd6",
      "cell_type": "code",
      "source": "# E as informações\nbase.info()",
      "metadata": {
        "trusted": true
      },
      "outputs": [
        {
          "name": "stdout",
          "text": "<class 'pandas.core.frame.DataFrame'>\nRangeIndex: 1460 entries, 0 to 1459\nData columns (total 81 columns):\n #   Column         Non-Null Count  Dtype  \n---  ------         --------------  -----  \n 0   Id             1460 non-null   int64  \n 1   MSSubClass     1460 non-null   int64  \n 2   MSZoning       1460 non-null   object \n 3   LotFrontage    1201 non-null   float64\n 4   LotArea        1460 non-null   int64  \n 5   Street         1460 non-null   object \n 6   Alley          91 non-null     object \n 7   LotShape       1460 non-null   object \n 8   LandContour    1460 non-null   object \n 9   Utilities      1460 non-null   object \n 10  LotConfig      1460 non-null   object \n 11  LandSlope      1460 non-null   object \n 12  Neighborhood   1460 non-null   object \n 13  Condition1     1460 non-null   object \n 14  Condition2     1460 non-null   object \n 15  BldgType       1460 non-null   object \n 16  HouseStyle     1460 non-null   object \n 17  OverallQual    1460 non-null   int64  \n 18  OverallCond    1460 non-null   int64  \n 19  YearBuilt      1460 non-null   int64  \n 20  YearRemodAdd   1460 non-null   int64  \n 21  RoofStyle      1460 non-null   object \n 22  RoofMatl       1460 non-null   object \n 23  Exterior1st    1460 non-null   object \n 24  Exterior2nd    1460 non-null   object \n 25  MasVnrType     588 non-null    object \n 26  MasVnrArea     1452 non-null   float64\n 27  ExterQual      1460 non-null   object \n 28  ExterCond      1460 non-null   object \n 29  Foundation     1460 non-null   object \n 30  BsmtQual       1423 non-null   object \n 31  BsmtCond       1423 non-null   object \n 32  BsmtExposure   1422 non-null   object \n 33  BsmtFinType1   1423 non-null   object \n 34  BsmtFinSF1     1460 non-null   int64  \n 35  BsmtFinType2   1422 non-null   object \n 36  BsmtFinSF2     1460 non-null   int64  \n 37  BsmtUnfSF      1460 non-null   int64  \n 38  TotalBsmtSF    1460 non-null   int64  \n 39  Heating        1460 non-null   object \n 40  HeatingQC      1460 non-null   object \n 41  CentralAir     1460 non-null   object \n 42  Electrical     1459 non-null   object \n 43  1stFlrSF       1460 non-null   int64  \n 44  2ndFlrSF       1460 non-null   int64  \n 45  LowQualFinSF   1460 non-null   int64  \n 46  GrLivArea      1460 non-null   int64  \n 47  BsmtFullBath   1460 non-null   int64  \n 48  BsmtHalfBath   1460 non-null   int64  \n 49  FullBath       1460 non-null   int64  \n 50  HalfBath       1460 non-null   int64  \n 51  BedroomAbvGr   1460 non-null   int64  \n 52  KitchenAbvGr   1460 non-null   int64  \n 53  KitchenQual    1460 non-null   object \n 54  TotRmsAbvGrd   1460 non-null   int64  \n 55  Functional     1460 non-null   object \n 56  Fireplaces     1460 non-null   int64  \n 57  FireplaceQu    770 non-null    object \n 58  GarageType     1379 non-null   object \n 59  GarageYrBlt    1379 non-null   float64\n 60  GarageFinish   1379 non-null   object \n 61  GarageCars     1460 non-null   int64  \n 62  GarageArea     1460 non-null   int64  \n 63  GarageQual     1379 non-null   object \n 64  GarageCond     1379 non-null   object \n 65  PavedDrive     1460 non-null   object \n 66  WoodDeckSF     1460 non-null   int64  \n 67  OpenPorchSF    1460 non-null   int64  \n 68  EnclosedPorch  1460 non-null   int64  \n 69  3SsnPorch      1460 non-null   int64  \n 70  ScreenPorch    1460 non-null   int64  \n 71  PoolArea       1460 non-null   int64  \n 72  PoolQC         7 non-null      object \n 73  Fence          281 non-null    object \n 74  MiscFeature    54 non-null     object \n 75  MiscVal        1460 non-null   int64  \n 76  MoSold         1460 non-null   int64  \n 77  YrSold         1460 non-null   int64  \n 78  SaleType       1460 non-null   object \n 79  SaleCondition  1460 non-null   object \n 80  SalePrice      1460 non-null   int64  \ndtypes: float64(3), int64(35), object(43)\nmemory usage: 678.7+ KB\n",
          "output_type": "stream"
        }
      ],
      "execution_count": 12
    },
    {
      "id": "2db0cfd3",
      "cell_type": "markdown",
      "source": "## Começando a explorar os dados",
      "metadata": {}
    },
    {
      "id": "b6528772",
      "cell_type": "code",
      "source": "# Visualizando quantidade de valores vazios\n(base.isnull().sum()/base.shape[0]).sort_values(ascending=False).head(20)",
      "metadata": {
        "trusted": true
      },
      "outputs": [
        {
          "execution_count": 16,
          "output_type": "execute_result",
          "data": {
            "text/plain": "PoolQC          0.995205\nMiscFeature     0.963014\nAlley           0.937671\nFence           0.807534\nMasVnrType      0.597260\nFireplaceQu     0.472603\nLotFrontage     0.177397\nGarageYrBlt     0.055479\nGarageCond      0.055479\nGarageType      0.055479\nGarageFinish    0.055479\nGarageQual      0.055479\nBsmtFinType2    0.026027\nBsmtExposure    0.026027\nBsmtQual        0.025342\nBsmtCond        0.025342\nBsmtFinType1    0.025342\nMasVnrArea      0.005479\nElectrical      0.000685\nId              0.000000\ndtype: float64"
          },
          "metadata": {}
        }
      ],
      "execution_count": 16
    },
    {
      "id": "bda71526",
      "cell_type": "code",
      "source": "# Podemos eliminar as colunas com mais de 10% de valores vazios\neliminar = base.columns[(base.isnull().sum()/base.shape[0]) > 0.1]\neliminar\n",
      "metadata": {
        "trusted": true
      },
      "outputs": [
        {
          "execution_count": 20,
          "output_type": "execute_result",
          "data": {
            "text/plain": "Index(['LotFrontage', 'Alley', 'MasVnrType', 'FireplaceQu', 'PoolQC', 'Fence',\n       'MiscFeature'],\n      dtype='object')"
          },
          "metadata": {}
        }
      ],
      "execution_count": 20
    },
    {
      "id": "ff97453f",
      "cell_type": "code",
      "source": "# Eliminando essas colunas\nbase = base.drop(eliminar,axis=1)",
      "metadata": {
        "trusted": true
      },
      "outputs": [],
      "execution_count": 21
    },
    {
      "id": "65a99aac-006c-4526-8d4e-67584e328f47",
      "cell_type": "code",
      "source": "(base.isnull().sum()/base.shape[0]).sort_values(ascending=False).head(20)",
      "metadata": {
        "trusted": true
      },
      "outputs": [
        {
          "execution_count": 22,
          "output_type": "execute_result",
          "data": {
            "text/plain": "GarageType      0.055479\nGarageCond      0.055479\nGarageYrBlt     0.055479\nGarageFinish    0.055479\nGarageQual      0.055479\nBsmtFinType2    0.026027\nBsmtExposure    0.026027\nBsmtFinType1    0.025342\nBsmtCond        0.025342\nBsmtQual        0.025342\nMasVnrArea      0.005479\nElectrical      0.000685\nWoodDeckSF      0.000000\nPavedDrive      0.000000\nLowQualFinSF    0.000000\nGrLivArea       0.000000\nBsmtFullBath    0.000000\nBsmtHalfBath    0.000000\nFullBath        0.000000\nHalfBath        0.000000\ndtype: float64"
          },
          "metadata": {}
        }
      ],
      "execution_count": 22
    },
    {
      "id": "7e83cd85",
      "cell_type": "markdown",
      "source": "- Queremos criar um primeiro modelo para verificar o quanto estamos errando e depois planejar como melhorar. Para isso:\n    - Vamos **eliminar as colunas de texto**\n    - Precisamos **tratar os valores vazios**\n    - Vamos **escolher alguns algoritmos para testar e um método de avaliação de erro**",
      "metadata": {}
    },
    {
      "id": "572df872",
      "cell_type": "code",
      "source": "# Selecionando apenas as colunas numéricas\ncolunas = base.columns[base.dtypes != 'object']\ncolunas",
      "metadata": {
        "trusted": true
      },
      "outputs": [
        {
          "execution_count": 26,
          "output_type": "execute_result",
          "data": {
            "text/plain": "Index(['Id', 'MSSubClass', 'LotArea', 'OverallQual', 'OverallCond',\n       'YearBuilt', 'YearRemodAdd', 'MasVnrArea', 'BsmtFinSF1', 'BsmtFinSF2',\n       'BsmtUnfSF', 'TotalBsmtSF', '1stFlrSF', '2ndFlrSF', 'LowQualFinSF',\n       'GrLivArea', 'BsmtFullBath', 'BsmtHalfBath', 'FullBath', 'HalfBath',\n       'BedroomAbvGr', 'KitchenAbvGr', 'TotRmsAbvGrd', 'Fireplaces',\n       'GarageYrBlt', 'GarageCars', 'GarageArea', 'WoodDeckSF', 'OpenPorchSF',\n       'EnclosedPorch', '3SsnPorch', 'ScreenPorch', 'PoolArea', 'MiscVal',\n       'MoSold', 'YrSold', 'SalePrice'],\n      dtype='object')"
          },
          "metadata": {}
        }
      ],
      "execution_count": 26
    },
    {
      "id": "2bd4e288",
      "cell_type": "code",
      "source": "# E criar uma nova base com esses valores\nbase2 = base.loc[:,colunas]\nbase2.head(3)",
      "metadata": {
        "trusted": true
      },
      "outputs": [
        {
          "execution_count": 27,
          "output_type": "execute_result",
          "data": {
            "text/plain": "   Id  MSSubClass  LotArea  OverallQual  OverallCond  YearBuilt  YearRemodAdd  \\\n0   1          60     8450            7            5       2003          2003   \n1   2          20     9600            6            8       1976          1976   \n2   3          60    11250            7            5       2001          2002   \n\n   MasVnrArea  BsmtFinSF1  BsmtFinSF2  ...  WoodDeckSF  OpenPorchSF  \\\n0       196.0         706           0  ...           0           61   \n1         0.0         978           0  ...         298            0   \n2       162.0         486           0  ...           0           42   \n\n   EnclosedPorch  3SsnPorch  ScreenPorch  PoolArea  MiscVal  MoSold  YrSold  \\\n0              0          0            0         0        0       2    2008   \n1              0          0            0         0        0       5    2007   \n2              0          0            0         0        0       9    2008   \n\n   SalePrice  \n0     208500  \n1     181500  \n2     223500  \n\n[3 rows x 37 columns]",
            "text/html": "<div>\n<style scoped>\n    .dataframe tbody tr th:only-of-type {\n        vertical-align: middle;\n    }\n\n    .dataframe tbody tr th {\n        vertical-align: top;\n    }\n\n    .dataframe thead th {\n        text-align: right;\n    }\n</style>\n<table border=\"1\" class=\"dataframe\">\n  <thead>\n    <tr style=\"text-align: right;\">\n      <th></th>\n      <th>Id</th>\n      <th>MSSubClass</th>\n      <th>LotArea</th>\n      <th>OverallQual</th>\n      <th>OverallCond</th>\n      <th>YearBuilt</th>\n      <th>YearRemodAdd</th>\n      <th>MasVnrArea</th>\n      <th>BsmtFinSF1</th>\n      <th>BsmtFinSF2</th>\n      <th>...</th>\n      <th>WoodDeckSF</th>\n      <th>OpenPorchSF</th>\n      <th>EnclosedPorch</th>\n      <th>3SsnPorch</th>\n      <th>ScreenPorch</th>\n      <th>PoolArea</th>\n      <th>MiscVal</th>\n      <th>MoSold</th>\n      <th>YrSold</th>\n      <th>SalePrice</th>\n    </tr>\n  </thead>\n  <tbody>\n    <tr>\n      <th>0</th>\n      <td>1</td>\n      <td>60</td>\n      <td>8450</td>\n      <td>7</td>\n      <td>5</td>\n      <td>2003</td>\n      <td>2003</td>\n      <td>196.0</td>\n      <td>706</td>\n      <td>0</td>\n      <td>...</td>\n      <td>0</td>\n      <td>61</td>\n      <td>0</td>\n      <td>0</td>\n      <td>0</td>\n      <td>0</td>\n      <td>0</td>\n      <td>2</td>\n      <td>2008</td>\n      <td>208500</td>\n    </tr>\n    <tr>\n      <th>1</th>\n      <td>2</td>\n      <td>20</td>\n      <td>9600</td>\n      <td>6</td>\n      <td>8</td>\n      <td>1976</td>\n      <td>1976</td>\n      <td>0.0</td>\n      <td>978</td>\n      <td>0</td>\n      <td>...</td>\n      <td>298</td>\n      <td>0</td>\n      <td>0</td>\n      <td>0</td>\n      <td>0</td>\n      <td>0</td>\n      <td>0</td>\n      <td>5</td>\n      <td>2007</td>\n      <td>181500</td>\n    </tr>\n    <tr>\n      <th>2</th>\n      <td>3</td>\n      <td>60</td>\n      <td>11250</td>\n      <td>7</td>\n      <td>5</td>\n      <td>2001</td>\n      <td>2002</td>\n      <td>162.0</td>\n      <td>486</td>\n      <td>0</td>\n      <td>...</td>\n      <td>0</td>\n      <td>42</td>\n      <td>0</td>\n      <td>0</td>\n      <td>0</td>\n      <td>0</td>\n      <td>0</td>\n      <td>9</td>\n      <td>2008</td>\n      <td>223500</td>\n    </tr>\n  </tbody>\n</table>\n<p>3 rows × 37 columns</p>\n</div>"
          },
          "metadata": {}
        }
      ],
      "execution_count": 27
    },
    {
      "id": "3718a7dd",
      "cell_type": "code",
      "source": "# Verificando os valores vazios\nbase2.isnull().sum().sort_values(ascending=False)",
      "metadata": {
        "trusted": true
      },
      "outputs": [
        {
          "execution_count": 28,
          "output_type": "execute_result",
          "data": {
            "text/plain": "GarageYrBlt      81\nMasVnrArea        8\nId                0\nOpenPorchSF       0\nKitchenAbvGr      0\nTotRmsAbvGrd      0\nFireplaces        0\nGarageCars        0\nGarageArea        0\nWoodDeckSF        0\nEnclosedPorch     0\nHalfBath          0\n3SsnPorch         0\nScreenPorch       0\nPoolArea          0\nMiscVal           0\nMoSold            0\nYrSold            0\nBedroomAbvGr      0\nFullBath          0\nMSSubClass        0\nBsmtFinSF2        0\nLotArea           0\nOverallQual       0\nOverallCond       0\nYearBuilt         0\nYearRemodAdd      0\nBsmtFinSF1        0\nBsmtUnfSF         0\nBsmtHalfBath      0\nTotalBsmtSF       0\n1stFlrSF          0\n2ndFlrSF          0\nLowQualFinSF      0\nGrLivArea         0\nBsmtFullBath      0\nSalePrice         0\ndtype: int64"
          },
          "metadata": {}
        }
      ],
      "execution_count": 28
    },
    {
      "id": "4a656932",
      "cell_type": "code",
      "source": "# Substituindo os valores vazios por -1\nbase2 = base2.fillna(-1)",
      "metadata": {
        "trusted": true
      },
      "outputs": [],
      "execution_count": 29
    },
    {
      "id": "3fe0ffdf",
      "cell_type": "markdown",
      "source": "- Essa será nossa base inicial para começar",
      "metadata": {}
    },
    {
      "id": "5a686ce6",
      "cell_type": "markdown",
      "source": "## Criando nosso modelo",
      "metadata": {}
    },
    {
      "id": "ee0b769c",
      "cell_type": "markdown",
      "source": "- **Vamos separar em treino e teste**\n    - https://scikit-learn.org/stable/modules/generated/sklearn.model_selection.train_test_split.html",
      "metadata": {}
    },
    {
      "id": "7f7b8193",
      "cell_type": "code",
      "source": "# Selecionando X e y\nX = base2.drop('SalePrice', axis=1)\ny = base2.SalePrice",
      "metadata": {
        "trusted": true
      },
      "outputs": [],
      "execution_count": 31
    },
    {
      "id": "149956b5",
      "cell_type": "code",
      "source": "# Importando o train_test_split\nfrom sklearn.model_selection import train_test_split",
      "metadata": {
        "trusted": true
      },
      "outputs": [],
      "execution_count": 32
    },
    {
      "id": "6ec49ce2",
      "cell_type": "code",
      "source": "# Separando essa base em treino e teste\nX_train, X_test, y_train, y_test = train_test_split(X, y, test_size=0.33, random_state=42)",
      "metadata": {
        "trusted": true
      },
      "outputs": [],
      "execution_count": 33
    },
    {
      "id": "72614e5e",
      "cell_type": "markdown",
      "source": "- **O próximo passo é selecionar os algoritmos que vamos utilizar. Podemos começar com os algoritmos mais simples como:**\n    - Regressão Linear\n        - https://scikit-learn.org/stable/modules/generated/sklearn.linear_model.LinearRegression.html\n    - Árvore de Regressão\n        - https://scikit-learn.org/stable/modules/tree.html#regression\n    - KNeighborsRegressor\n        - https://scikit-learn.org/stable/modules/generated/sklearn.neighbors.KNeighborsRegressor.html#sklearn.neighbors.KNeighborsRegressor",
      "metadata": {}
    },
    {
      "id": "50bf2902",
      "cell_type": "code",
      "source": "# Importando a regressão linear\nfrom sklearn.linear_model import LinearRegression",
      "metadata": {
        "trusted": true
      },
      "outputs": [],
      "execution_count": 35
    },
    {
      "id": "76235128",
      "cell_type": "code",
      "source": "# Criando o regressor e fazendo o fit com os dados de treino\nreg_rl = LinearRegression().fit(X_train, y_train)",
      "metadata": {
        "trusted": true
      },
      "outputs": [],
      "execution_count": 37
    },
    {
      "id": "581ebb2d",
      "cell_type": "code",
      "source": "# Fazendo a previsão pros dados de teste\ny_rl = reg_rl.predict(X_test)",
      "metadata": {
        "trusted": true
      },
      "outputs": [],
      "execution_count": 38
    },
    {
      "id": "1bfbbbdf",
      "cell_type": "code",
      "source": "# Importando a árvore de regressão\nfrom sklearn import tree",
      "metadata": {
        "trusted": true
      },
      "outputs": [],
      "execution_count": 39
    },
    {
      "id": "b4bacf9b",
      "cell_type": "code",
      "source": "# Criando o regressor e fazendo o fit com os dados de treino\nreg_ar = tree.DecisionTreeClassifier(random_state=42).fit(X_train, y_train)",
      "metadata": {
        "trusted": true
      },
      "outputs": [],
      "execution_count": 40
    },
    {
      "id": "8f44b273",
      "cell_type": "code",
      "source": "# Fazendo a previsão\ny_ar = reg_ar.predict(X_test)",
      "metadata": {
        "trusted": true
      },
      "outputs": [],
      "execution_count": 42
    },
    {
      "id": "a2286fb9",
      "cell_type": "code",
      "source": "# Importando o KNN\nfrom sklearn.neighbors import KNeighborsRegressor",
      "metadata": {
        "trusted": true
      },
      "outputs": [],
      "execution_count": 43
    },
    {
      "id": "11210713",
      "cell_type": "code",
      "source": "# Criando o regressor e fazendo o fit com os dados de treino\nreg_knn = KNeighborsRegressor(n_neighbors=2).fit(X_train, y_train)",
      "metadata": {
        "trusted": true
      },
      "outputs": [],
      "execution_count": 45
    },
    {
      "id": "b337d25a",
      "cell_type": "code",
      "source": "# Fazendo a previsão\ny_knn = reg_knn.predict(X_test)",
      "metadata": {
        "trusted": true
      },
      "outputs": [],
      "execution_count": 46
    },
    {
      "id": "fdd63bff",
      "cell_type": "markdown",
      "source": "- **E avaliar esses dados, utilizando tanto o erro absoluto quanto o quadrático:**\n    - Erro médio absoluto\n        - https://scikit-learn.org/stable/modules/generated/sklearn.metrics.mean_absolute_error.html\n    - Erro quadrático médio\n        - https://scikit-learn.org/stable/modules/generated/sklearn.metrics.mean_squared_error.html",
      "metadata": {}
    },
    {
      "id": "269a3bcd",
      "cell_type": "code",
      "source": "# Importando o erro médio absoluto\nfrom sklearn.metrics import mean_absolute_error",
      "metadata": {
        "trusted": true
      },
      "outputs": [],
      "execution_count": 47
    },
    {
      "id": "12eb2132",
      "cell_type": "code",
      "source": "# E o erro quadrático médio\nfrom sklearn.metrics import mean_squared_error",
      "metadata": {
        "trusted": true
      },
      "outputs": [],
      "execution_count": 48
    },
    {
      "id": "14769a7a",
      "cell_type": "code",
      "source": "# Avaliando o erro da regressão\nprint(mean_absolute_error(y_test, y_rl))\nprint(mean_squared_error(y_test, y_rl))",
      "metadata": {
        "trusted": true
      },
      "outputs": [
        {
          "name": "stdout",
          "text": "23763.18739306484\n1533982883.4449291\n",
          "output_type": "stream"
        }
      ],
      "execution_count": 49
    },
    {
      "id": "2417d97e",
      "cell_type": "code",
      "source": "# da árvore de decisão\nprint(mean_absolute_error(y_test, y_ar))\nprint(mean_squared_error(y_test, y_ar))",
      "metadata": {
        "trusted": true
      },
      "outputs": [
        {
          "name": "stdout",
          "text": "34290.82780082987\n3267429539.840249\n",
          "output_type": "stream"
        }
      ],
      "execution_count": 50
    },
    {
      "id": "b3159911",
      "cell_type": "code",
      "source": "# e do knn\nprint(mean_absolute_error(y_test, y_knn))\nprint(mean_squared_error(y_test, y_knn))",
      "metadata": {
        "trusted": true
      },
      "outputs": [
        {
          "name": "stdout",
          "text": "33273.08298755187\n2733937586.841286\n",
          "output_type": "stream"
        }
      ],
      "execution_count": 51
    },
    {
      "id": "162028e9",
      "cell_type": "markdown",
      "source": "- **Podemos plotar visualmente a relação do y_test com as previsões feitas**\n    - Para isso vamos utilizar o matplotlib\n        - https://matplotlib.org/",
      "metadata": {}
    },
    {
      "id": "7e5f78f8",
      "cell_type": "code",
      "source": "# Importando o matplotlib\nimport matplotlib.pyplot as plt",
      "metadata": {
        "trusted": true
      },
      "outputs": [],
      "execution_count": 52
    },
    {
      "id": "a6bf59eb",
      "cell_type": "code",
      "source": "# Criando esse gráfico\nfig, ax = plt.subplots(ncols=3,figsize=(15,5))\n\nax[0].scatter(y_test/100000,y_rl/100000)\nax[0].plot([0,700000],[0,700000],'--r')\nax[1].scatter(y_test/100000,y_ar/100000)\nax[1].plot([0,700000],[0,700000],'--r')\nax[2].scatter(y_test/100000,y_knn/100000)\nax[2].plot([0,700000],[0,700000],'--r')\n\nax[0].set(xlim=(0, 7),ylim=(0, 7))\nax[0].set_xlabel('Real')\nax[0].set_ylabel('Previsão')\nax[1].set(xlim=(0, 7),ylim=(0, 7))\nax[1].set_xlabel('Real')\nax[1].set_ylabel('Previsão')\nax[2].set(xlim=(0, 7),ylim=(0, 7))\nax[2].set_xlabel('Real')\nax[2].set_ylabel('Previsão')\n\nplt.show()",
      "metadata": {
        "trusted": true
      },
      "outputs": [
        {
          "output_type": "display_data",
          "data": {
            "text/plain": "<Figure size 1500x500 with 3 Axes>",
            "image/png": "[encoded data removed]"
          },
          "metadata": {}
        }
      ],
      "execution_count": 54
    },
    {
      "id": "e262938a",
      "cell_type": "markdown",
      "source": "- **Vamos utilizar a Regressão Linear por ter sido o algoritmo com menor erro quadrático médio, a mesma métrica avaliada pelo Kaggle na hora de classificar os modelos**",
      "metadata": {}
    },
    {
      "id": "d855508c",
      "cell_type": "markdown",
      "source": "## Fazendo a previsão para a base de teste da competição",
      "metadata": {}
    },
    {
      "id": "8d98c739",
      "cell_type": "code",
      "source": "# Importando a base de teste\nteste = pd.read_csv('test.csv')",
      "metadata": {
        "trusted": true
      },
      "outputs": [],
      "execution_count": 55
    },
    {
      "id": "83a9ca6f",
      "cell_type": "code",
      "source": "# Visualizando a base\nteste.head(3)",
      "metadata": {
        "trusted": true
      },
      "outputs": [
        {
          "execution_count": 56,
          "output_type": "execute_result",
          "data": {
            "text/plain": "     Id  MSSubClass MSZoning  LotFrontage  LotArea Street Alley LotShape  \\\n0  1461          20       RH         80.0    11622   Pave   NaN      Reg   \n1  1462          20       RL         81.0    14267   Pave   NaN      IR1   \n2  1463          60       RL         74.0    13830   Pave   NaN      IR1   \n\n  LandContour Utilities  ... ScreenPorch PoolArea PoolQC  Fence MiscFeature  \\\n0         Lvl    AllPub  ...         120        0    NaN  MnPrv         NaN   \n1         Lvl    AllPub  ...           0        0    NaN    NaN        Gar2   \n2         Lvl    AllPub  ...           0        0    NaN  MnPrv         NaN   \n\n  MiscVal MoSold  YrSold  SaleType  SaleCondition  \n0       0      6    2010        WD         Normal  \n1   12500      6    2010        WD         Normal  \n2       0      3    2010        WD         Normal  \n\n[3 rows x 80 columns]",
            "text/html": "<div>\n<style scoped>\n    .dataframe tbody tr th:only-of-type {\n        vertical-align: middle;\n    }\n\n    .dataframe tbody tr th {\n        vertical-align: top;\n    }\n\n    .dataframe thead th {\n        text-align: right;\n    }\n</style>\n<table border=\"1\" class=\"dataframe\">\n  <thead>\n    <tr style=\"text-align: right;\">\n      <th></th>\n      <th>Id</th>\n      <th>MSSubClass</th>\n      <th>MSZoning</th>\n      <th>LotFrontage</th>\n      <th>LotArea</th>\n      <th>Street</th>\n      <th>Alley</th>\n      <th>LotShape</th>\n      <th>LandContour</th>\n      <th>Utilities</th>\n      <th>...</th>\n      <th>ScreenPorch</th>\n      <th>PoolArea</th>\n      <th>PoolQC</th>\n      <th>Fence</th>\n      <th>MiscFeature</th>\n      <th>MiscVal</th>\n      <th>MoSold</th>\n      <th>YrSold</th>\n      <th>SaleType</th>\n      <th>SaleCondition</th>\n    </tr>\n  </thead>\n  <tbody>\n    <tr>\n      <th>0</th>\n      <td>1461</td>\n      <td>20</td>\n      <td>RH</td>\n      <td>80.0</td>\n      <td>11622</td>\n      <td>Pave</td>\n      <td>NaN</td>\n      <td>Reg</td>\n      <td>Lvl</td>\n      <td>AllPub</td>\n      <td>...</td>\n      <td>120</td>\n      <td>0</td>\n      <td>NaN</td>\n      <td>MnPrv</td>\n      <td>NaN</td>\n      <td>0</td>\n      <td>6</td>\n      <td>2010</td>\n      <td>WD</td>\n      <td>Normal</td>\n    </tr>\n    <tr>\n      <th>1</th>\n      <td>1462</td>\n      <td>20</td>\n      <td>RL</td>\n      <td>81.0</td>\n      <td>14267</td>\n      <td>Pave</td>\n      <td>NaN</td>\n      <td>IR1</td>\n      <td>Lvl</td>\n      <td>AllPub</td>\n      <td>...</td>\n      <td>0</td>\n      <td>0</td>\n      <td>NaN</td>\n      <td>NaN</td>\n      <td>Gar2</td>\n      <td>12500</td>\n      <td>6</td>\n      <td>2010</td>\n      <td>WD</td>\n      <td>Normal</td>\n    </tr>\n    <tr>\n      <th>2</th>\n      <td>1463</td>\n      <td>60</td>\n      <td>RL</td>\n      <td>74.0</td>\n      <td>13830</td>\n      <td>Pave</td>\n      <td>NaN</td>\n      <td>IR1</td>\n      <td>Lvl</td>\n      <td>AllPub</td>\n      <td>...</td>\n      <td>0</td>\n      <td>0</td>\n      <td>NaN</td>\n      <td>MnPrv</td>\n      <td>NaN</td>\n      <td>0</td>\n      <td>3</td>\n      <td>2010</td>\n      <td>WD</td>\n      <td>Normal</td>\n    </tr>\n  </tbody>\n</table>\n<p>3 rows × 80 columns</p>\n</div>"
          },
          "metadata": {}
        }
      ],
      "execution_count": 56
    },
    {
      "id": "c78b0e24",
      "cell_type": "markdown",
      "source": "- **Agora vamos repetir os mesmos tratamentos que fizemos na base de treino**\n    - Obs: **não podemos excluir linhas**",
      "metadata": {}
    },
    {
      "id": "ffe3cade",
      "cell_type": "code",
      "source": "# Eliminando as mesmas colunas da base de treino\nteste = teste.drop(eliminar, axis=1)",
      "metadata": {
        "trusted": true
      },
      "outputs": [],
      "execution_count": 58
    },
    {
      "id": "cfce9334",
      "cell_type": "code",
      "source": "# Verificando as colunas numéricas\ncolunas2 = teste.columns[teste.dtypes != 'object']\ncolunas2",
      "metadata": {
        "trusted": true
      },
      "outputs": [
        {
          "execution_count": 61,
          "output_type": "execute_result",
          "data": {
            "text/plain": "Index(['Id', 'MSSubClass', 'LotArea', 'OverallQual', 'OverallCond',\n       'YearBuilt', 'YearRemodAdd', 'MasVnrArea', 'BsmtFinSF1', 'BsmtFinSF2',\n       'BsmtUnfSF', 'TotalBsmtSF', '1stFlrSF', '2ndFlrSF', 'LowQualFinSF',\n       'GrLivArea', 'BsmtFullBath', 'BsmtHalfBath', 'FullBath', 'HalfBath',\n       'BedroomAbvGr', 'KitchenAbvGr', 'TotRmsAbvGrd', 'Fireplaces',\n       'GarageYrBlt', 'GarageCars', 'GarageArea', 'WoodDeckSF', 'OpenPorchSF',\n       'EnclosedPorch', '3SsnPorch', 'ScreenPorch', 'PoolArea', 'MiscVal',\n       'MoSold', 'YrSold'],\n      dtype='object')"
          },
          "metadata": {}
        }
      ],
      "execution_count": 61
    },
    {
      "id": "f1cab80b",
      "cell_type": "code",
      "source": "# Mantendo também apenas as colunas numéricas\nteste = teste.loc[:,colunas2]",
      "metadata": {
        "trusted": true
      },
      "outputs": [],
      "execution_count": 62
    },
    {
      "id": "eb322627",
      "cell_type": "code",
      "source": "# Verificando a base restante\nteste.info()",
      "metadata": {
        "trusted": true
      },
      "outputs": [
        {
          "name": "stdout",
          "text": "<class 'pandas.core.frame.DataFrame'>\nRangeIndex: 1459 entries, 0 to 1458\nData columns (total 36 columns):\n #   Column         Non-Null Count  Dtype  \n---  ------         --------------  -----  \n 0   Id             1459 non-null   int64  \n 1   MSSubClass     1459 non-null   int64  \n 2   LotArea        1459 non-null   int64  \n 3   OverallQual    1459 non-null   int64  \n 4   OverallCond    1459 non-null   int64  \n 5   YearBuilt      1459 non-null   int64  \n 6   YearRemodAdd   1459 non-null   int64  \n 7   MasVnrArea     1444 non-null   float64\n 8   BsmtFinSF1     1458 non-null   float64\n 9   BsmtFinSF2     1458 non-null   float64\n 10  BsmtUnfSF      1458 non-null   float64\n 11  TotalBsmtSF    1458 non-null   float64\n 12  1stFlrSF       1459 non-null   int64  \n 13  2ndFlrSF       1459 non-null   int64  \n 14  LowQualFinSF   1459 non-null   int64  \n 15  GrLivArea      1459 non-null   int64  \n 16  BsmtFullBath   1457 non-null   float64\n 17  BsmtHalfBath   1457 non-null   float64\n 18  FullBath       1459 non-null   int64  \n 19  HalfBath       1459 non-null   int64  \n 20  BedroomAbvGr   1459 non-null   int64  \n 21  KitchenAbvGr   1459 non-null   int64  \n 22  TotRmsAbvGrd   1459 non-null   int64  \n 23  Fireplaces     1459 non-null   int64  \n 24  GarageYrBlt    1381 non-null   float64\n 25  GarageCars     1458 non-null   float64\n 26  GarageArea     1458 non-null   float64\n 27  WoodDeckSF     1459 non-null   int64  \n 28  OpenPorchSF    1459 non-null   int64  \n 29  EnclosedPorch  1459 non-null   int64  \n 30  3SsnPorch      1459 non-null   int64  \n 31  ScreenPorch    1459 non-null   int64  \n 32  PoolArea       1459 non-null   int64  \n 33  MiscVal        1459 non-null   int64  \n 34  MoSold         1459 non-null   int64  \n 35  YrSold         1459 non-null   int64  \ndtypes: float64(10), int64(26)\nmemory usage: 410.4 KB\n",
          "output_type": "stream"
        }
      ],
      "execution_count": 64
    },
    {
      "id": "194b4c8a",
      "cell_type": "code",
      "source": "# Visualizando quantidade de valores vazios\nteste.isnull().sum().sort_values(ascending=False)",
      "metadata": {
        "trusted": true
      },
      "outputs": [
        {
          "execution_count": 65,
          "output_type": "execute_result",
          "data": {
            "text/plain": "GarageYrBlt      78\nMasVnrArea       15\nBsmtHalfBath      2\nBsmtFullBath      2\nBsmtUnfSF         1\nGarageCars        1\nGarageArea        1\nBsmtFinSF1        1\nBsmtFinSF2        1\nTotalBsmtSF       1\nOpenPorchSF       0\nWoodDeckSF        0\nId                0\nEnclosedPorch     0\nTotRmsAbvGrd      0\n3SsnPorch         0\nScreenPorch       0\nPoolArea          0\nMiscVal           0\nMoSold            0\nFireplaces        0\nFullBath          0\nKitchenAbvGr      0\nBedroomAbvGr      0\nHalfBath          0\nMSSubClass        0\nGrLivArea         0\nLowQualFinSF      0\n2ndFlrSF          0\n1stFlrSF          0\nYearRemodAdd      0\nYearBuilt         0\nOverallCond       0\nOverallQual       0\nLotArea           0\nYrSold            0\ndtype: int64"
          },
          "metadata": {}
        }
      ],
      "execution_count": 65
    },
    {
      "id": "604cfd7e",
      "cell_type": "markdown",
      "source": "- **Vamos precisar retirar os valores vazios pois a regressão linear não vai conseguir trabalhar com valores vazio**\n    - Se tentarmos usar essa base, ele vai retornar um **erro** dizendo que o **input possui valores NaN**\n- Podemos apenas substituir por -1 como fizemos acima",
      "metadata": {}
    },
    {
      "id": "77fdbe03",
      "cell_type": "code",
      "source": "# Substituindo os valores vazios por -1\nteste = teste.fillna(-1)",
      "metadata": {
        "trusted": true
      },
      "outputs": [],
      "execution_count": 66
    },
    {
      "id": "db767eed",
      "cell_type": "markdown",
      "source": "- **Agora podemos usar nosso modelo e ajustar os dados para usarmos no Kaggle**",
      "metadata": {}
    },
    {
      "id": "9b09d278",
      "cell_type": "code",
      "source": "# Vamos usar o knn para fazer a previsão\ny_pred = reg_rl.predict(teste)",
      "metadata": {
        "trusted": true
      },
      "outputs": [],
      "execution_count": 70
    },
    {
      "id": "511117c5",
      "cell_type": "code",
      "source": "# Podemos adicionar essa coluna de previsão na nossa base\nteste['SalePrice'] = y_pred",
      "metadata": {
        "trusted": true
      },
      "outputs": [],
      "execution_count": 71
    },
    {
      "id": "bc1fd647",
      "cell_type": "code",
      "source": "# E extrair somente o Id e o SalePrice\nresultado = teste[['Id','SalePrice']]\nresultado",
      "metadata": {
        "trusted": true
      },
      "outputs": [
        {
          "execution_count": 73,
          "output_type": "execute_result",
          "data": {
            "text/plain": "        Id      SalePrice\n0     1461  122234.995960\n1     1462  139178.263684\n2     1463  169872.054251\n3     1464  199138.801656\n4     1465  196257.109229\n...    ...            ...\n1454  2915   59584.320646\n1455  2916   54459.048029\n1456  2917  175307.588032\n1457  2918  106132.531424\n1458  2919  251494.077387\n\n[1459 rows x 2 columns]",
            "text/html": "<div>\n<style scoped>\n    .dataframe tbody tr th:only-of-type {\n        vertical-align: middle;\n    }\n\n    .dataframe tbody tr th {\n        vertical-align: top;\n    }\n\n    .dataframe thead th {\n        text-align: right;\n    }\n</style>\n<table border=\"1\" class=\"dataframe\">\n  <thead>\n    <tr style=\"text-align: right;\">\n      <th></th>\n      <th>Id</th>\n      <th>SalePrice</th>\n    </tr>\n  </thead>\n  <tbody>\n    <tr>\n      <th>0</th>\n      <td>1461</td>\n      <td>122234.995960</td>\n    </tr>\n    <tr>\n      <th>1</th>\n      <td>1462</td>\n      <td>139178.263684</td>\n    </tr>\n    <tr>\n      <th>2</th>\n      <td>1463</td>\n      <td>169872.054251</td>\n    </tr>\n    <tr>\n      <th>3</th>\n      <td>1464</td>\n      <td>199138.801656</td>\n    </tr>\n    <tr>\n      <th>4</th>\n      <td>1465</td>\n      <td>196257.109229</td>\n    </tr>\n    <tr>\n      <th>...</th>\n      <td>...</td>\n      <td>...</td>\n    </tr>\n    <tr>\n      <th>1454</th>\n      <td>2915</td>\n      <td>59584.320646</td>\n    </tr>\n    <tr>\n      <th>1455</th>\n      <td>2916</td>\n      <td>54459.048029</td>\n    </tr>\n    <tr>\n      <th>1456</th>\n      <td>2917</td>\n      <td>175307.588032</td>\n    </tr>\n    <tr>\n      <th>1457</th>\n      <td>2918</td>\n      <td>106132.531424</td>\n    </tr>\n    <tr>\n      <th>1458</th>\n      <td>2919</td>\n      <td>251494.077387</td>\n    </tr>\n  </tbody>\n</table>\n<p>1459 rows × 2 columns</p>\n</div>"
          },
          "metadata": {}
        }
      ],
      "execution_count": 73
    },
    {
      "id": "9513b665",
      "cell_type": "code",
      "source": "# Podemos então exportar essa base\nresultado.to_csv('resultado.csv', index=False)",
      "metadata": {
        "trusted": true
      },
      "outputs": [],
      "execution_count": 74
    },
    {
      "id": "06034ac0",
      "cell_type": "markdown",
      "source": "- **Próximos passos**\n    - Você pode tentar melhorar a limpeza dos seus dados \n        - [Limpeza de Dados em um Dataset Real - Dados do Titanic](https://www.youtube.com/watch?v=RuDxj894BXQ&t=1218s)\n    - Depois é possível fazer a engenharia de recursos\n        - [Feature Engineering em Python para Seus Projetos de Ciência de Dados](https://www.youtube.com/watch?v=rigZ7HdfWaM&t=61s)\n    - A padronização / normalização dos dados\n        - [Padronização e Normalização de Dados para Ciência de Dados](https://www.youtube.com/watch?v=L6rLSYVBfyM&t=12s)\n    - E até a seleção de variáveis\n        - [Seleção de Recursos (Feature Selection) em Projetos de Ciência de Dados](https://www.youtube.com/watch?v=0yM07AURFRY&t=615s)",
      "metadata": {}
    }
  ]
}